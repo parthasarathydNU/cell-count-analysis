{
 "cells": [
  {
   "cell_type": "markdown",
   "id": "631c4960-e0de-4edd-9093-c25df368d2dd",
   "metadata": {},
   "source": [
    "# Data:\n",
    "\n",
    "File `cell-count.csv` contains cell count information for various immune cell populations of each patient sample. There are five populations: `b_cell`, `cd8_t_cell`, `cd4_t_cell`, `nk_cell`, and `monocyte`. Each row in the file corresponds to a biological sample."
   ]
  },
  {
   "cell_type": "markdown",
   "id": "392d1f93-a537-4db0-aa83-384a60aff428",
   "metadata": {},
   "source": [
    "# Task 1: Calculating the relative frequency of total cell count for each sample\n",
    "\n",
    "Total cell count of each sample is the sum of cells in the five populations of that sample. Please return an output file in csv format with cell count and relative frequency of each population of each sample per line. The output file should have the following columns:\n",
    "\n",
    "- **sample:** the sample id as in column sample in cell-count.csv\n",
    "- **total_count:** total cell count of sample\n",
    "- **population:** name of the immune cell population (e.g. b_cell, cd8_t_cell, etc.)\n",
    "- **count:** cell count\n",
    "- **percentage:** relative frequency in percentage"
   ]
  },
  {
   "cell_type": "code",
   "execution_count": 48,
   "id": "eecadcc6-c0fa-4f89-947b-f0ee71670784",
   "metadata": {},
   "outputs": [],
   "source": [
    "# Importing required libraries\n",
    "import pandas as pd\n",
    "import seaborn as sns\n",
    "import matplotlib.pyplot as plt"
   ]
  },
  {
   "cell_type": "code",
   "execution_count": 2,
   "id": "a9eb6752-74b0-4618-8213-f52cfcd36b59",
   "metadata": {},
   "outputs": [
    {
     "name": "stdout",
     "output_type": "stream",
     "text": [
      "Succesfully loaded data:\n",
      "  project subject condition  age sex treatment response sample sample_type  \\\n",
      "0    prj1    sbj1  melanoma   70   F       tr1        y     s1        PBMC   \n",
      "1    prj1    sbj1  melanoma   70   F       tr1        y     s2        PBMC   \n",
      "2    prj1    sbj1  melanoma   70   F       tr1        y     s3        PBMC   \n",
      "3    prj1    sbj2   healthy   65   F      none      NaN     s4        PBMC   \n",
      "4    prj1    sbj3  melanoma   75   M       tr1        n     s5        PBMC   \n",
      "\n",
      "   time_from_treatment_start  b_cell  cd8_t_cell  cd4_t_cell  nk_cell  \\\n",
      "0                        0.0   36000       24000       42000     6000   \n",
      "1                        7.0   30000       22000       40000     2000   \n",
      "2                       14.0   35000       26250       37500    10000   \n",
      "3                        NaN   27900       17100       18000     4500   \n",
      "4                        0.0   60000       30000       37500     4500   \n",
      "\n",
      "   monocyte  \n",
      "0     12000  \n",
      "1      6000  \n",
      "2     16250  \n",
      "3     22500  \n",
      "4     18000  \n",
      "Total  number of samples: 17\n"
     ]
    }
   ],
   "source": [
    "# Importing data\n",
    "try:\n",
    "    # Load the data\n",
    "    data = pd.read_csv('../data/cell-count.csv')\n",
    "\n",
    "    # Display the first few rows of the data frame\n",
    "    print(\"Succesfully loaded data:\")\n",
    "    print(data.head())\n",
    "\n",
    "    # Basic Operation: Calculate the total number of samples\n",
    "    total_samples = data.shape[0]\n",
    "    print(f\"Total  number of samples: {total_samples}\")\n",
    "\n",
    "except Exception as e:\n",
    "    print(f\"An error occured: {e}\")"
   ]
  },
  {
   "cell_type": "code",
   "execution_count": 3,
   "id": "a0cc417d-3020-4fb4-87aa-025c1549994a",
   "metadata": {},
   "outputs": [],
   "source": [
    "populations = [\"b_cell\", \"cd8_t_cell\", \"cd4_t_cell\", \"nk_cell\", \"monocyte\"]"
   ]
  },
  {
   "cell_type": "code",
   "execution_count": 4,
   "id": "2b0bb1dd-f6f3-468a-b53f-df5db4f51eef",
   "metadata": {},
   "outputs": [],
   "source": [
    "# Calculate total count of each sample\n",
    "data['total_count'] = data[populations].sum(axis=1)"
   ]
  },
  {
   "cell_type": "code",
   "execution_count": 25,
   "id": "9e91318c-f69f-4a52-9386-5d5594561104",
   "metadata": {},
   "outputs": [],
   "source": [
    "# Prepare the output DataFrame\n",
    "output = pd.DataFrame()\n",
    "\n",
    "# Loop through each population to calculate percentage\n",
    "for population in populations:\n",
    "    temp_df = pd.DataFrame()\n",
    "    temp_df['sample'] = data['sample']\n",
    "    temp_df['total_count'] = data['total_count']\n",
    "    temp_df['population'] = population\n",
    "    temp_df['count'] = data[population]\n",
    "    temp_df['percentage'] = round((data[population] / data['total_count']) * 100, 2)\n",
    "    output = pd.concat([output, temp_df])\n"
   ]
  },
  {
   "cell_type": "code",
   "execution_count": 26,
   "id": "ed0929f2-3947-4570-9ea7-3820f22c4fdb",
   "metadata": {},
   "outputs": [],
   "source": [
    "# Updating the index values before saving as CSV\n",
    "output = output.reset_index(drop=True)"
   ]
  },
  {
   "cell_type": "code",
   "execution_count": 27,
   "id": "2ca0e742-8b77-4a47-b836-331fabbd0463",
   "metadata": {},
   "outputs": [],
   "source": [
    "# Save the processed data to a new CSV file\n",
    "output.to_csv(\"../data/updated-cell-count.csv\", index=False)"
   ]
  },
  {
   "cell_type": "code",
   "execution_count": 28,
   "id": "236561de-6f56-4565-8359-5efa1e1e9703",
   "metadata": {},
   "outputs": [
    {
     "name": "stdout",
     "output_type": "stream",
     "text": [
      "  sample  total_count population  count  percentage\n",
      "0     s1       120000     b_cell  36000        30.0\n",
      "1     s2       100000     b_cell  30000        30.0\n",
      "2     s3       125000     b_cell  35000        28.0\n",
      "3     s4        90000     b_cell  27900        31.0\n",
      "4     s5       150000     b_cell  60000        40.0\n"
     ]
    }
   ],
   "source": [
    "# Print head for preview\n",
    "print(output.head())"
   ]
  },
  {
   "cell_type": "markdown",
   "id": "b93d8000-2a43-46ee-90a2-53465faf6862",
   "metadata": {},
   "source": [
    "# Task 2 : Visual and statistical analysis\n",
    "\n",
    "### Background\n",
    "Melanoma, a form of skin cancer, can be treated with various therapeutic approaches, but the response to specific treatments like 'tr1' can vary significantly among patients. Understanding the immune system's role in this variability could provide critical insights into the effectiveness of treatments. In this context, analyzing the immune cell composition in peripheral blood mononuclear cells (PBMCs) offers a window into the body’s immune response mechanisms.\n",
    "\n",
    "### Task Objectives\n",
    "This task, we aim to investigate the differences in immune cell population frequencies between melanoma patients who respond to the treatment 'tr1' and those who do not. **By identifying which immune cells differ significantly between responders and non-responders, we can gain insights into potential biomarkers for predicting treatment outcomes.**\n",
    "\n",
    "### Methodology\n",
    "We will use a dataset containing cell count information for various immune cell populations from patient samples. Here are the specific steps we will undertake:\n",
    "\n",
    "1. **Data Preparation**: Filter the dataset to focus only on patients treated with 'tr1' and those classified as having PBMC samples.\n",
    "2. **Data Analysis**:\n",
    "   - Calculate the relative frequencies of each immune cell population.\n",
    "   - Compare these frequencies between responders (patients who responded positively to the treatment) and non-responders.\n",
    "3. **Statistical Testing**:\n",
    "   - Employ statistical tests (such as the Mann-Whitney U test) to identify significant differences in cell populations between the two groups.\n",
    "4. **Visualization**:\n",
    "   - Generate boxplots for each immune cell population to visually compare their distributions in responders versus non-responders.\n",
    "5. **Reporting**:\n",
    "   - Summarize the findings, discuss their implications, and suggest potential areas for further research.\n",
    "\n",
    "### Expected Outcomes\n",
    "We anticipate identifying specific immune cells whose relative frequencies significantly differ between responders and non-responders. These findings could help predict patient responses to treatment 'tr1' and contribute to more personalized and effective therapeutic strategies."
   ]
  },
  {
   "cell_type": "markdown",
   "id": "62df5ea1-bcdc-4b05-b422-6e5b83c4c947",
   "metadata": {},
   "source": [
    "## Analysis\n",
    "\n",
    "### Data Preparation"
   ]
  },
  {
   "cell_type": "code",
   "execution_count": 52,
   "id": "b331e583-d35b-45e7-b2d5-320008ce2f62",
   "metadata": {},
   "outputs": [
    {
     "name": "stdout",
     "output_type": "stream",
     "text": [
      "project                          prj1\n",
      "subject                          sbj1\n",
      "condition                    melanoma\n",
      "age                                70\n",
      "sex                                 F\n",
      "treatment                         tr1\n",
      "response                            y\n",
      "sample                             s2\n",
      "sample_type                      PBMC\n",
      "time_from_treatment_start         7.0\n",
      "b_cell                          30000\n",
      "cd8_t_cell                      22000\n",
      "cd4_t_cell                      40000\n",
      "nk_cell                          2000\n",
      "monocyte                         6000\n",
      "total_count                    100000\n",
      "b_cell_percent                   30.0\n",
      "cd8_t_cell_percent               22.0\n",
      "cd4_t_cell_percent               40.0\n",
      "nk_cell_percent                   2.0\n",
      "monocyte_percent                  6.0\n",
      "Name: 1, dtype: object\n"
     ]
    },
    {
     "data": {
      "text/html": [
       "<div>\n",
       "<style scoped>\n",
       "    .dataframe tbody tr th:only-of-type {\n",
       "        vertical-align: middle;\n",
       "    }\n",
       "\n",
       "    .dataframe tbody tr th {\n",
       "        vertical-align: top;\n",
       "    }\n",
       "\n",
       "    .dataframe thead th {\n",
       "        text-align: right;\n",
       "    }\n",
       "</style>\n",
       "<table border=\"1\" class=\"dataframe\">\n",
       "  <thead>\n",
       "    <tr style=\"text-align: right;\">\n",
       "      <th></th>\n",
       "      <th>project</th>\n",
       "      <th>subject</th>\n",
       "      <th>condition</th>\n",
       "      <th>age</th>\n",
       "      <th>sex</th>\n",
       "      <th>treatment</th>\n",
       "      <th>response</th>\n",
       "      <th>sample</th>\n",
       "      <th>sample_type</th>\n",
       "      <th>time_from_treatment_start</th>\n",
       "      <th>...</th>\n",
       "      <th>cd8_t_cell</th>\n",
       "      <th>cd4_t_cell</th>\n",
       "      <th>nk_cell</th>\n",
       "      <th>monocyte</th>\n",
       "      <th>total_count</th>\n",
       "      <th>b_cell_percent</th>\n",
       "      <th>cd8_t_cell_percent</th>\n",
       "      <th>cd4_t_cell_percent</th>\n",
       "      <th>nk_cell_percent</th>\n",
       "      <th>monocyte_percent</th>\n",
       "    </tr>\n",
       "  </thead>\n",
       "  <tbody>\n",
       "    <tr>\n",
       "      <th>0</th>\n",
       "      <td>prj1</td>\n",
       "      <td>sbj1</td>\n",
       "      <td>melanoma</td>\n",
       "      <td>70</td>\n",
       "      <td>F</td>\n",
       "      <td>tr1</td>\n",
       "      <td>y</td>\n",
       "      <td>s1</td>\n",
       "      <td>PBMC</td>\n",
       "      <td>0.0</td>\n",
       "      <td>...</td>\n",
       "      <td>24000</td>\n",
       "      <td>42000</td>\n",
       "      <td>6000</td>\n",
       "      <td>12000</td>\n",
       "      <td>120000</td>\n",
       "      <td>30.0</td>\n",
       "      <td>20.0</td>\n",
       "      <td>35.0</td>\n",
       "      <td>5.0</td>\n",
       "      <td>10.0</td>\n",
       "    </tr>\n",
       "    <tr>\n",
       "      <th>1</th>\n",
       "      <td>prj1</td>\n",
       "      <td>sbj1</td>\n",
       "      <td>melanoma</td>\n",
       "      <td>70</td>\n",
       "      <td>F</td>\n",
       "      <td>tr1</td>\n",
       "      <td>y</td>\n",
       "      <td>s2</td>\n",
       "      <td>PBMC</td>\n",
       "      <td>7.0</td>\n",
       "      <td>...</td>\n",
       "      <td>22000</td>\n",
       "      <td>40000</td>\n",
       "      <td>2000</td>\n",
       "      <td>6000</td>\n",
       "      <td>100000</td>\n",
       "      <td>30.0</td>\n",
       "      <td>22.0</td>\n",
       "      <td>40.0</td>\n",
       "      <td>2.0</td>\n",
       "      <td>6.0</td>\n",
       "    </tr>\n",
       "    <tr>\n",
       "      <th>2</th>\n",
       "      <td>prj1</td>\n",
       "      <td>sbj1</td>\n",
       "      <td>melanoma</td>\n",
       "      <td>70</td>\n",
       "      <td>F</td>\n",
       "      <td>tr1</td>\n",
       "      <td>y</td>\n",
       "      <td>s3</td>\n",
       "      <td>PBMC</td>\n",
       "      <td>14.0</td>\n",
       "      <td>...</td>\n",
       "      <td>26250</td>\n",
       "      <td>37500</td>\n",
       "      <td>10000</td>\n",
       "      <td>16250</td>\n",
       "      <td>125000</td>\n",
       "      <td>28.0</td>\n",
       "      <td>21.0</td>\n",
       "      <td>30.0</td>\n",
       "      <td>8.0</td>\n",
       "      <td>13.0</td>\n",
       "    </tr>\n",
       "    <tr>\n",
       "      <th>4</th>\n",
       "      <td>prj1</td>\n",
       "      <td>sbj3</td>\n",
       "      <td>melanoma</td>\n",
       "      <td>75</td>\n",
       "      <td>M</td>\n",
       "      <td>tr1</td>\n",
       "      <td>n</td>\n",
       "      <td>s5</td>\n",
       "      <td>PBMC</td>\n",
       "      <td>0.0</td>\n",
       "      <td>...</td>\n",
       "      <td>30000</td>\n",
       "      <td>37500</td>\n",
       "      <td>4500</td>\n",
       "      <td>18000</td>\n",
       "      <td>150000</td>\n",
       "      <td>40.0</td>\n",
       "      <td>20.0</td>\n",
       "      <td>25.0</td>\n",
       "      <td>3.0</td>\n",
       "      <td>12.0</td>\n",
       "    </tr>\n",
       "    <tr>\n",
       "      <th>5</th>\n",
       "      <td>prj1</td>\n",
       "      <td>sbj3</td>\n",
       "      <td>melanoma</td>\n",
       "      <td>75</td>\n",
       "      <td>M</td>\n",
       "      <td>tr1</td>\n",
       "      <td>n</td>\n",
       "      <td>s6</td>\n",
       "      <td>PBMC</td>\n",
       "      <td>7.0</td>\n",
       "      <td>...</td>\n",
       "      <td>24200</td>\n",
       "      <td>33000</td>\n",
       "      <td>5500</td>\n",
       "      <td>19800</td>\n",
       "      <td>110000</td>\n",
       "      <td>25.0</td>\n",
       "      <td>22.0</td>\n",
       "      <td>30.0</td>\n",
       "      <td>5.0</td>\n",
       "      <td>18.0</td>\n",
       "    </tr>\n",
       "  </tbody>\n",
       "</table>\n",
       "<p>5 rows × 21 columns</p>\n",
       "</div>"
      ],
      "text/plain": [
       "  project subject condition  age sex treatment response sample sample_type  \\\n",
       "0    prj1    sbj1  melanoma   70   F       tr1        y     s1        PBMC   \n",
       "1    prj1    sbj1  melanoma   70   F       tr1        y     s2        PBMC   \n",
       "2    prj1    sbj1  melanoma   70   F       tr1        y     s3        PBMC   \n",
       "4    prj1    sbj3  melanoma   75   M       tr1        n     s5        PBMC   \n",
       "5    prj1    sbj3  melanoma   75   M       tr1        n     s6        PBMC   \n",
       "\n",
       "   time_from_treatment_start  ...  cd8_t_cell  cd4_t_cell  nk_cell  monocyte  \\\n",
       "0                        0.0  ...       24000       42000     6000     12000   \n",
       "1                        7.0  ...       22000       40000     2000      6000   \n",
       "2                       14.0  ...       26250       37500    10000     16250   \n",
       "4                        0.0  ...       30000       37500     4500     18000   \n",
       "5                        7.0  ...       24200       33000     5500     19800   \n",
       "\n",
       "   total_count  b_cell_percent  cd8_t_cell_percent  cd4_t_cell_percent  \\\n",
       "0       120000            30.0                20.0                35.0   \n",
       "1       100000            30.0                22.0                40.0   \n",
       "2       125000            28.0                21.0                30.0   \n",
       "4       150000            40.0                20.0                25.0   \n",
       "5       110000            25.0                22.0                30.0   \n",
       "\n",
       "   nk_cell_percent  monocyte_percent  \n",
       "0              5.0              10.0  \n",
       "1              2.0               6.0  \n",
       "2              8.0              13.0  \n",
       "4              3.0              12.0  \n",
       "5              5.0              18.0  \n",
       "\n",
       "[5 rows x 21 columns]"
      ]
     },
     "execution_count": 52,
     "metadata": {},
     "output_type": "execute_result"
    }
   ],
   "source": [
    "# We have already calculated the total count of cells in the prev task\n",
    "\n",
    "# Filter for treatment 'tr1' and PBMC samples only\n",
    "# Explicitly create a new DataFrame with necessary filters\n",
    "filtered_data = data.loc[(data['treatment'] == 'tr1') & (data['sample_type'] == 'PBMC')].copy()\n",
    "\n",
    "# Calculating the relative frequencies\n",
    "for population in populations:\n",
    "    filtered_data.loc[:, f'{population}_percent'] = (filtered_data[population] / filtered_data['total_count']) * 100\n",
    "    # The use of .loc explicitly ensures that the operation is performed on the original DataFrame and not on \n",
    "    # a temporary or intermediate copy.\n",
    "\n",
    "print(filtered_data.iloc[1])\n",
    "filtered_data.head()"
   ]
  },
  {
   "cell_type": "markdown",
   "id": "6af7e1d9-665e-4054-9e35-dffd70518291",
   "metadata": {},
   "source": [
    "### Data Segmentation\n",
    "Divide the filtered data into responders and non-responders:"
   ]
  },
  {
   "cell_type": "code",
   "execution_count": 45,
   "id": "1fd30400-acec-4fb7-adad-deb5254de61c",
   "metadata": {},
   "outputs": [],
   "source": [
    "responders = filtered_data[filtered_data['response'] == 'y']\n",
    "non_responders = filtered_data[filtered_data['response'] == 'n']"
   ]
  },
  {
   "cell_type": "markdown",
   "id": "eb3f0242-0728-43ac-8fb9-80b969ad7df9",
   "metadata": {},
   "source": [
    "### Generate Boxplots\n",
    "We create boxplots for each immune cell population to visualize differences between responders and non-responders:"
   ]
  },
  {
   "cell_type": "code",
   "execution_count": 50,
   "id": "83179f2f-97fd-4789-8c50-2a5efd39e28a",
   "metadata": {},
   "outputs": [
    {
     "data": {
      "image/png": "[encoded data removed]",
      "text/plain": [
       "<Figure size 2000x500 with 5 Axes>"
      ]
     },
     "metadata": {},
     "output_type": "display_data"
    }
   ],
   "source": [
    "# Setting up the plot - one row, multiple columns\n",
    "fig, axes = plt.subplots(nrows=1, ncols=len(populations), figsize=(20, 5), sharey=True)  # Sharey allows for sharing Y axis between plots\n",
    "\n",
    "# Looping through populations and plotting each on a subplot\n",
    "for i, population in enumerate(populations):\n",
    "    sns.boxplot(x='response', y=f'{population}_percent', data=filtered_data, ax=axes[i])\n",
    "    axes[i].set_title(f'{population.capitalize()} Relative Frequency')\n",
    "    axes[i].set_xlabel('Response')\n",
    "    if i == 0:  # Only add y-label to the first plot to avoid repetition\n",
    "        axes[i].set_ylabel('Relative Frequency (%)')\n",
    "    else:\n",
    "        axes[i].set_ylabel('')\n",
    "\n",
    "# Adjust layout for better fit and display the plot\n",
    "plt.tight_layout()\n",
    "plt.show()"
   ]
  },
  {
   "cell_type": "markdown",
   "id": "bd13ec69-7c72-4874-903a-fcace526af13",
   "metadata": {},
   "source": [
    "> Analyzing the provided box plots of immune cell relative frequencies between responders (y) and non-responders (n) to treatment tr1, several observations and insights can be drawn about the distribution and potential significance of each cell population in relation to the treatment's effectiveness.\n",
    "\n",
    "\n",
    "### Observations from the B-cell Relative Frequency Boxplot\n",
    "\n",
    "The observed patterns in the B-cell relative frequencies between responders and non-responders, particularly noting the narrower interquartile range (IQR) for responders and the wider, more varied IQR for non-responders, provide some insights into the potential utility of B-cell relative frequency as an indicator of treatment response. Here’s a detailed exploration of what these observations could imply:\n",
    "\n",
    "#### Narrower IQR in Responders\n",
    "\n",
    "- **Consistency in Immune Profile:** The narrower IQR among responders suggests that there is a more consistent immune profile regarding B-cell relative frequencies in this group. This consistency might indicate a more uniform mechanism of action by the treatment in these patients, ***possibly due to similar underlying biological conditions** that are favorably affected by the treatment.*\n",
    "\n",
    "- **Predictability of Response:** The predictability of treatment response could potentially be higher in individuals whose B-cell frequencies fall within this narrower range. This suggests that maintaining B-cell levels within certain bounds could be critical for achieving a positive response.\n",
    "\n",
    "#### Wider IQR in Non-Responders\n",
    "\n",
    "- **Heterogeneity in Immune Response:** The wider spread in B-cell frequencies among non-responders indicates a greater heterogeneity in immune responses. *This variability could be due to several factors, including **genetic diversity, different stages or types of disease, or varying environmental or health conditions** that affect how the immune system reacts to the treatment.*\n",
    "\n",
    "- **Complexity in Treatment Efficacy:** The wide range of B-cell frequencies covering those of responders suggests that *simply having a specific level of B-cells does not guarantee a response to the treatment.* This complexity may imply that *other factors in addition to B-cell frequency play significant roles in influencing treatment outcomes.*\n",
    "\n",
    "#### Implications for B-cell Frequency as an Indicator\n",
    "\n",
    "- **Potential Biomarker with Limitations:** While B-cell relative frequency could serve as a potential biomarker for predicting treatment response, *the overlap in frequencies between responders and non-responders indicates that B-cell frequency alone may not be a definitive indicator*. Instead, it should be considered in combination with other biomarkers or clinical factors to improve predictive accuracy.\n",
    "- **Need for Additional Biomarkers:** The variability in non-responders suggests that additional biomarkers need to be identified and combined with B-cell frequency to develop a more robust predictive model. These could include other immune cell types, genetic markers, or clinical parameters."
   ]
  },
  {
   "cell_type": "markdown",
   "id": "cb4c8d5b-b1a1-4d60-b138-64dc536b0c26",
   "metadata": {},
   "source": [
    "### Observations from the CD8 T-cell Relative Frequency Boxplot\n",
    "\n",
    "Analyzing the boxplot provided for the CD8 T-cell relative frequency between responders ('y') and non-responders ('n') to the treatment tr1, some insights can be drawn about the potential role and behavior of CD8 T-cells in the immune response to this treatment. Here are some interpretations based on the boxplot:\n",
    "\n",
    "#### Insights and Implications\n",
    "\n",
    "- **CD8 T-cells as a Biomarker**: The similarity in medians suggests that *CD8 T-cell relative frequency might not be a strong standalone biomarker for predicting response to tr1 treatment in melanoma*, as there is no clear distinction in the central tendency between responders and non-responders.\n",
    "- **Potential Role of CD8 T-cells**: CD8 T-cells, known for their role in cytotoxic immune responses, do not show a clear differential presence between the two groups, which might *suggest that the effectiveness of tr1 treatment is not predominantly mediated through mechanisms involving changes in CD8 T-cell proportions alone*.\n",
    "- **Consideration of Outliers**: The presence of outliers in the non-responder group with higher CD8 T-cell frequencies could be of clinical interest. It *might be worth investigating whether these higher frequencies correlate with any particular clinical characteristics or outcomes, which could reveal subtypes within the non-responders that have unique immune profiles.*\n",
    "  \n",
    "#### Further Analysis\n",
    "\n",
    "- Subgroup Analysis: Further analysis could be done on the non-responder subgroup with high CD8 T-cell frequencies to understand if their high CD8 levels are associated with resistance mechanisms to tr1 treatment.\n",
    "- Combination with Other Markers: Since CD8 T-cells alone do not differentiate between responders and non-responders, combining this marker with other immune cell types or molecular markers could improve the predictive power of the immune profile.\n",
    "\n",
    "The CD8 T-cell frequencies provide a piece of the puzzle, but clearly, additional factors are necessary to fully understand and predict treatment responses.\n",
    "\n",
    "#### Recommendation for Further Research\n",
    "\n",
    "To further elucidate the role of CD8 T-cells in the response to treatment tr1 and to better understand the implications of the observed variability and outliers in CD8 T-cell frequencies among non-responders, it is recommended to increase the sample size, particularly focusing on:\n",
    "\n",
    "- Gathering More Diverse Samples: Enrich the dataset with a broader range of patients, including those with higher variability in CD8 T-cell frequencies. This approach would provide a more comprehensive understanding of the immune landscape across a wider spectrum of melanoma patients.\n",
    "\n",
    "- Longitudinal Sampling: Collect immune cell frequency data at multiple time points during treatment. This longitudinal data collection can help track changes over time, offering insights into how CD8 T-cell levels might influence or be influenced by the treatment process.\n",
    "\n",
    "\n",
    "#### Expected Outcomes\n",
    "\n",
    "By increasing the diversity and number of samples, particularly among those with high variability in CD8 T-cell levels, researchers can:\n",
    "- Achieve a deeper understanding of the mechanistic role that CD8 T-cells play in the immune response to melanoma treatments.\n",
    "- Enhance the statistical power of the study, thereby improving the reliability and specificity of the findings.\n",
    "- Potentially uncover unique immune profiles that could predict treatment success or failure, supporting the development of more personalized treatment plans."
   ]
  },
  {
   "cell_type": "markdown",
   "id": "57e3ec89-88b5-48f8-8651-c3648bb5acf0",
   "metadata": {},
   "source": [
    "### Observations from the CD4 T-cell Relative Frequency Boxplot\n",
    "\n",
    "The boxplot for CD4 T-cell relative frequency between responders ('y') and non-responders ('n') provides a clear visual distinction between the two groups, indicating a potentially significant role of CD4 T-cells in response to treatment tr1. Here's an analysis based on the provided boxplot:\n",
    "\n",
    "- **Median Relative Frequency**: The median relative frequency of CD4 T-cells is considerably higher in responders compared to non-responders. This suggests that a higher proportion of CD4 T-cells within the immune profile may be associated with a positive response to the treatment.\n",
    "  \n",
    "- **Interquartile Range (IQR)**: The IQR for responders is broader than that for non-responders, indicating greater variability among responders in terms of CD4 T-cell proportions. This could imply that while a higher CD4 T-cell level generally correlates with a better response, the exact level can still vary considerably among successful cases.\n",
    "\n",
    "- **Overall Distribution**: The distribution for non-responders is very tight, with an extremely low median relative frequency of CD4 T-cells. This constrained variability suggests that low CD4 T-cell levels are consistently associated with non-response.\n",
    "\n",
    "- **Outliers**: There is one outlier in the non-responder group, indicating a single non-responder with a CD4 T-cell relative frequency that aligns more closely with the responder group. This outlier might indicate an atypical case or could suggest potential subgroups within the non-responders that may respond differently to other treatments or interventions.\n",
    "\n",
    "#### Insights and Implications\n",
    "\n",
    "- **CD4 T-cells as Potential Biomarkers**: The clear distinction in CD4 T-cell frequencies between responders and non-responders strongly suggests that CD4 T-cell levels could serve as a reliable biomarker for predicting response to treatment tr1. Higher levels of CD4 T-cells might be indicative of an immune system that is more capable or prepared to respond positively to the treatment.\n",
    "\n",
    "- **Role in Immune Response**: CD4 T-cells play a critical role in orchestrating the immune response, including helping activate other immune cells. Their higher frequencies in responders could indicate a more active or effective immune response mechanism being engaged in these patients.\n",
    "\n",
    "- **Clinical Applications**: The findings could be used to adjust treatment strategies. For instance, patients with naturally lower CD4 T-cell frequencies might benefit from therapies that boost CD4 T-cell activity or numbers before administering tr1, potentially increasing their likelihood of response.\n",
    "\n",
    "- **Further Research**: Investigating the biological or environmental factors that contribute to higher CD4 T-cell levels in responders could provide deeper insights into how to enhance treatment effectiveness. Additionally, studying the outlier in the non-responder group could yield insights into exceptions to typical patterns and guide personalized treatment adjustments.\n",
    "\n",
    "The analysis of CD4 T-cell relative frequencies offers compelling evidence that these cells are crucial in mediating response to treatment tr1. Leveraging this information can help refine predictive models of treatment success and guide more personalized therapeutic approaches, potentially leading to better overall treatment outcomes.\n",
    "\n",
    "The boxplot for NK (Natural Killer) cell relative frequencies between responders ('y') and non-responders ('n') provides valuable insights into the potential differences in NK cell activity or presence in relation to treatment response. Here is a detailed analysis of the plot:"
   ]
  },
  {
   "cell_type": "markdown",
   "id": "6b385970-c979-4be1-aef6-e99609211e2e",
   "metadata": {
    "jp-MarkdownHeadingCollapsed": true
   },
   "source": [
    "### Observations from the NK Cell Relative Frequency Boxplot\n",
    "\n",
    "- **Median Relative Frequency**: Responders show a higher median relative frequency of NK cells compared to non-responders. This indicates that responders tend to have a higher proportion of NK cells within their immune profile.\n",
    "  \n",
    "- **Interquartile Range (IQR)**: The IQR for responders is broader than for non-responders, which suggests greater variability in NK cell proportions among those who respond to the treatment. This variability could reflect differences in how individual immune systems of responders are modulated or respond to the treatment.\n",
    "  \n",
    "- **Overall Distribution**: The overall range for responders is also wider, indicating that some responders have significantly higher NK cell frequencies. In contrast, the range and IQR for non-responders are both narrow, showing less variability and generally lower frequencies of NK cells.\n",
    "\n",
    "- **Data Spread and Extremes**: The absence of outliers in both groups suggests that the NK cell frequencies fall within a relatively expected range without extreme values that significantly deviate from the main body of data.\n",
    "\n",
    "#### Insights and Implications\n",
    "\n",
    "- **NK Cells and Treatment Response**: The higher median and wider variability of NK cell frequencies among responders might suggest that NK cells play a role in the effective immune response to the treatment. NK cells are known for their ability to recognize and kill cells that are stressed or infected without prior sensitization, which can be crucial in cancer treatment contexts.\n",
    "\n",
    "- **Potential Biomarker for Efficacy**: The association of higher NK cell frequencies with treatment response suggests that NK cell levels could potentially serve as biomarkers for predicting treatment efficacy. Patients with higher levels of NK cells might be more likely to respond positively to the treatment.\n",
    "\n",
    "- **Immunological Significance**: The differences in NK cell levels between responders and non-responders highlight the importance of innate immunity in the treatment response. This could influence future therapeutic strategies, such as combining traditional treatments with therapies that enhance NK cell activity.\n",
    "\n",
    "- **Therapeutic Adjustments**: For patients with low NK cell levels (typical of non-responders), strategies to boost NK cell activity could be considered to improve treatment outcomes. This might involve the use of agents that specifically enhance NK cell proliferation or function.\n",
    "\n",
    "#### Further Research\n",
    "\n",
    "- **Longitudinal Studies**: Observational studies over the course of treatment could help clarify whether changes in NK cell levels correlate with changes in patient response over time, potentially leading to dynamic adjustments in therapeutic approaches based on NK cell metrics.\n",
    "\n",
    "This analysis underscores the potential role of NK cells in mediating responses to treatment and supports the notion that enhancing specific arms of the immune system could be a viable strategy in cancer therapy. These findings could guide both clinical practice and research, focusing on leveraging innate immune responses in the fight against cancer."
   ]
  },
  {
   "cell_type": "markdown",
   "id": "f277e78e-5ba2-4774-8001-1b6bcdf2289b",
   "metadata": {},
   "source": [
    "### Observations from the Monocyte Relative Frequency Boxplot\n",
    "\n",
    "The boxplot for monocyte relative frequency between responders ('y') and non-responders ('n') provides a clear visual differentiation in the monocyte distributions among these groups, which can yield significant insights into the immune dynamics under treatment tr1. Here's a detailed analysis of the monocyte relative frequencies based on the boxplot:\n",
    "\n",
    "- **Median Relative Frequency**: Responders have a lower median relative frequency of monocytes compared to non-responders. This suggests that a lower proportion of monocytes within the immune profile may be associated with a positive response to the treatment.\n",
    "\n",
    "- **Outliers**: There is an outlier in the non-responder group, indicating that at least one non-responder has a much higher frequency of monocytes,. This outlier could represent an atypical case or a potential sub-group among non-responders.\n",
    "\n",
    "#### Insights and Implications\n",
    "\n",
    "- **Potential Biomarker for Efficacy**: Given the differences in monocyte levels between responders and non-responders, monocyte frequency might serve as a potential biomarker for predicting treatment efficacy. Lower monocyte levels could potentially indicate a more favorable response to treatment.\n",
    "\n",
    "- **Clinical Strategy**: Understanding the role of monocytes in the context of treatment response could help in tailoring treatment strategies. For example, if high monocyte levels are correlated with poor treatment response, interventions to modulate monocyte activity or number could be considered.\n",
    "\n",
    "- **Further Research**: Investigating the biological or mechanistic reasons behind the variation in monocyte levels could provide insights into how to manipulate these levels to improve treatment outcomes. Additionally, the role of the outlier in the non-responder group should be examined to understand if there are unique characteristics or conditions that lead to their divergent monocyte frequency.\n",
    "\n",
    "This analysis indicates that monocyte relative frequencies vary significantly between responders and non-responders and that these variations could be relevant for treatment outcomes. The role of monocytes in cancer treatment is complex, and further research into their specific functions and interactions could lead to better-targeted therapies and improved patient stratification in clinical trials."
   ]
  },
  {
   "cell_type": "markdown",
   "id": "dba5ae8f-25f4-48df-8554-042fe778f059",
   "metadata": {},
   "source": [
    "## Statistical analysis\n",
    "\n",
    "### Checking for normality\n",
    "\n",
    "Since we have a small data set we go with the [Shapiro-Wilk test](https://en.wikipedia.org/wiki/Shapiro–Wilk_test#Interpretation) from the `scipy.stats` module.\n",
    "\n",
    "The null-hypothesis of this test is that the population is normally distributed. Thus, if the p value is less than the chosen alpha level, then the null hypothesis is rejected and there is evidence that the data tested are not normally distributed. On the other hand, if the p value is greater than the chosen alpha level, then the null hypothesis (that the data came from a normally distributed population) can not be rejected \n",
    "\n",
    "Interpretation\n",
    "- p-value < 0.05: Rejects the null hypothesis, suggesting the data is not normally distributed.\n",
    "- p-value >= 0.05: Fails to reject the null hypothesis, suggesting the data is normally distributed."
   ]
  },
  {
   "cell_type": "code",
   "execution_count": 55,
   "id": "fb1ee9e0-2def-404c-bbde-e30c307a5add",
   "metadata": {},
   "outputs": [
    {
     "name": "stdout",
     "output_type": "stream",
     "text": [
      "B_cell - Responders: Statistics=0.886, p-value=0.299\n",
      "B_cell - Non-Responders: Statistics=0.958, p-value=0.795\n",
      "\n",
      "Cd8_t_cell - Responders: Statistics=0.960, p-value=0.820\n",
      "Cd8_t_cell - Non-Responders: Statistics=0.828, p-value=0.135\n",
      "\n",
      "Cd4_t_cell - Responders: Statistics=0.954, p-value=0.771\n",
      "Cd4_t_cell - Non-Responders: Statistics=0.813, p-value=0.103\n",
      "\n",
      "Nk_cell - Responders: Statistics=0.952, p-value=0.757\n",
      "Nk_cell - Non-Responders: Statistics=0.881, p-value=0.314\n",
      "\n",
      "Monocyte - Responders: Statistics=0.918, p-value=0.489\n",
      "Monocyte - Non-Responders: Statistics=0.846, p-value=0.181\n",
      "\n"
     ]
    }
   ],
   "source": [
    "from scipy.stats import shapiro\n",
    "\n",
    "# Store results in a dictionary\n",
    "normality_results = {}\n",
    "\n",
    "for population in populations:\n",
    "    stat_r, p_r = shapiro(responders[f'{population}_percent'])\n",
    "    stat_nr, p_nr = shapiro(non_responders[f'{population}_percent'])\n",
    "    normality_results[population] = {'Responders': (stat_r, p_r), 'Non-Responders': (stat_nr, p_nr)}\n",
    "\n",
    "# Print results\n",
    "for population, results in normality_results.items():\n",
    "    print(f\"{population.capitalize()} - Responders: Statistics={results['Responders'][0]:.3f}, p-value={results['Responders'][1]:.3f}\")\n",
    "    print(f\"{population.capitalize()} - Non-Responders: Statistics={results['Non-Responders'][0]:.3f}, p-value={results['Non-Responders'][1]:.3f}\")\n",
    "    print()"
   ]
  },
  {
   "cell_type": "markdown",
   "id": "b4f74d8f-3683-4f3c-80c3-0d6d379b47c6",
   "metadata": {},
   "source": [
    "Here we see that the p-values for all the population across both the sets - responders and non-responders is > 0.05. Thus we can conclude that the data is normally distributed.\n",
    "\n",
    "### Independent Samples t-Tests\n",
    "\n",
    "Now that we've established that the data is normally distributed, we can proceed with parametric tests, which can provide more power and precision in analyzing the differences between responders and non-responders. The appropriate test in this case is the independent samples t-test, which compares the means of two independent groups under the assumption of normal distribution. We use the `scipy.stats` library for the same."
   ]
  },
  {
   "cell_type": "code",
   "execution_count": 57,
   "id": "c4fcd3e5-7c40-4630-98a9-2082bd720f00",
   "metadata": {},
   "outputs": [
    {
     "name": "stdout",
     "output_type": "stream",
     "text": [
      "B_cell - Statistics=-0.008, p-value=0.994\n",
      "\n",
      "Cd8_t_cell - Statistics=0.463, p-value=0.654\n",
      "\n",
      "Cd4_t_cell - Statistics=4.941, p-value=0.001\n",
      "\n",
      "Nk_cell - Statistics=1.848, p-value=0.098\n",
      "\n",
      "Monocyte - Statistics=-2.904, p-value=0.017\n",
      "\n"
     ]
    }
   ],
   "source": [
    "from scipy.stats import ttest_ind\n",
    "\n",
    "# Dictionary to store t-test results\n",
    "t_test_results = {}\n",
    "\n",
    "for population in populations:\n",
    "    stat, p = ttest_ind(responders[f'{population}_percent'], non_responders[f'{population}_percent'], equal_var=True)\n",
    "    t_test_results[population] = (stat, p)\n",
    "\n",
    "# Print the results\n",
    "for population, results in t_test_results.items():\n",
    "    print(f\"{population.capitalize()} - Statistics={results[0]:.3f}, p-value={results[1]:.3f}\")\n",
    "    print()\n"
   ]
  },
  {
   "cell_type": "markdown",
   "id": "6de1410c-bd5c-4a0d-aabc-d230931e5a4e",
   "metadata": {},
   "source": [
    "Interpret the Results\n",
    "- p-value < 0.05: Suggests a statistically significant difference between the mean relative frequencies of immune cells in responders and non-responders.\n",
    "- p-value >= 0.05: Suggests that there is no statistically significant difference in the means between the two groups."
   ]
  },
  {
   "cell_type": "markdown",
   "id": "600c2bdb-9545-4fad-889c-9a6e2255d83c",
   "metadata": {},
   "source": [
    "Based on the interpretation we notice that `Cd4_t_cell` and `Monocyte` have a p-value < 0.05 and this indicates that there is a statistically significant difference between the mean relative frequencies of immune cells across the responders and non responders. **This correlates with the findings from the box plot as well.**"
   ]
  },
  {
   "cell_type": "code",
   "execution_count": 66,
   "id": "d7d42509-99c3-4dc9-87bd-326bac2b5993",
   "metadata": {},
   "outputs": [
    {
     "data": {
      "image/png": "[encoded data removed]",
      "text/plain": [
       "<Figure size 2000x500 with 2 Axes>"
      ]
     },
     "metadata": {},
     "output_type": "display_data"
    }
   ],
   "source": [
    "# Setting up the plot - one row, multiple columns\n",
    "fig, axes = plt.subplots(nrows=1, ncols=2, figsize=(20, 5), sharey=True)  # Sharey allows for sharing Y axis between plots\n",
    "\n",
    "# Looping through populations and plotting each on a subplot\n",
    "for i, population in enumerate([\"cd4_t_cell\", \"monocyte\"]):\n",
    "    sns.boxplot(x='response', y=f'{population}_percent', data=filtered_data, ax=axes[i])\n",
    "    axes[i].set_title(f'{population.capitalize()} Relative Frequency')\n",
    "    axes[i].set_xlabel('Response')\n",
    "    if i == 0:  # Only add y-label to the first plot to avoid repetition\n",
    "        axes[i].set_ylabel('Relative Frequency (%)')\n",
    "    else:\n",
    "        axes[i].set_ylabel('')\n",
    "\n",
    "plt.show()"
   ]
  },
  {
   "cell_type": "markdown",
   "id": "62926d52-280a-4780-b6b6-4ab802bd7076",
   "metadata": {},
   "source": [
    "## Task 2 Conclusion: Statistical Analysis of Immune Cell Frequencies in Response to Treatment tr1\n",
    "\n",
    "The comprehensive analysis of immune cell relative frequencies in melanoma patients undergoing treatment tr1 has provided valuable insights into the immunological dynamics associated with treatment responses. The statistical tests conducted, particularly the independent samples t-tests on the normally distributed data, have validated observations from initial box plot visualizations, allowing for a robust conclusion regarding the immune profiles of responders and non-responders.\n",
    "\n",
    "#### Key Findings:\n",
    "- **CD4 T-cells**: There is a statistically significant difference in the relative frequencies of CD4 T-cells between responders and non-responders, with responders exhibiting higher levels. This finding supports the hypothesis that CD4 T-cells play a crucial role in mediating a positive response to treatment tr1, likely through their functions in orchestrating other immune responses and enhancing immune system communication.\n",
    "- **Monocytes**: Similarly, monocytes showed significant differences in relative frequencies, with lower levels generally observed in responders compared to non-responders. This suggests that lower monocyte levels might be favorable in the context of this specific treatment, potentially related to reduced inflammatory responses or a more efficient immunological reaction against tumor cells.\n",
    "\n",
    "#### Implications:\n",
    "These findings underscore the potential of leveraging specific immune cell frequencies as biomarkers for predicting treatment outcomes. The significant roles of CD4 T-cells and monocytes, in particular, suggest pathways through which the treatment may be exerting its effects, and which could be targeted for therapeutic advantage.\n",
    "\n",
    "#### Recommendations:\n",
    "1. **Clinical Application**: Incorporating the measurement of CD4 T-cell and monocyte levels into routine diagnostic assessments may help predict patient responses to treatment tr1, enabling more personalized therapy plans.\n",
    "2. **Further Research**: Additional studies should focus on exploring the mechanisms by which these cells influence treatment efficacy. This could involve molecular studies to understand the signaling pathways activated by these cells, as well as clinical trials to test interventions that modulate their levels or activity.\n",
    "3. **Development of Predictive Models**: Integrating the relative frequencies of these immune cells into machine learning models could further refine the ability to predict treatment outcomes, providing clinicians with powerful tools for treatment customization.\n",
    "\n",
    "### Final Thoughts:\n",
    "This analysis not only highlights the importance of immune profiling in the management of melanoma but also demonstrates the potential for immune cells as predictive markers in cancer therapy. By continuing to explore and understand these relationships, we can hope to enhance the efficacy of treatment regimens and ultimately improve patient prognoses. This study exemplifies the critical intersection of immunology and personalized medicine, offering pathways toward more effective and tailored therapeutic approaches."
   ]
  }
 ],
 "metadata": {
  "kernelspec": {
   "display_name": "Python 3 (ipykernel)",
   "language": "python",
   "name": "python3"
  },
  "language_info": {
   "codemirror_mode": {
    "name": "ipython",
    "version": 3
   },
   "file_extension": ".py",
   "mimetype": "text/x-python",
   "name": "python",
   "nbconvert_exporter": "python",
   "pygments_lexer": "ipython3",
   "version": "3.9.6"
  },
  "vscode": {
   "interpreter": {
    "hash": "c3e0331c31fd420f21999ff838f8ab7e3361bc6964957b8d8a737796f10c22e4"
   }
  }
 },
 "nbformat": 4,
 "nbformat_minor": 5
}
