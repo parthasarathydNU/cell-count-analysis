{
 "cells": [
  {
   "cell_type": "markdown",
   "id": "631c4960-e0de-4edd-9093-c25df368d2dd",
   "metadata": {},
   "source": [
    "### Data:\n",
    "\n",
    "File `cell-count.csv` contains cell count information for various immune cell populations of each patient sample. There are five populations: `b_cell`, `cd8_t_cell`, `cd4_t_cell`, `nk_cell`, and `monocyte`. Each row in the file corresponds to a biological sample."
   ]
  },
  {
   "cell_type": "markdown",
   "id": "392d1f93-a537-4db0-aa83-384a60aff428",
   "metadata": {},
   "source": [
    "### Task1: \n",
    "Write a python program to **convert cell count in cell-count.csv to relative frequency (in percentage) of total cell count for each sample**. Total cell count of each sample is the sum of cells in the five populations of that sample. Please return an output file in csv format with cell count and relative frequency of each population of each sample per line. The output file should have the following columns:\n",
    "\n",
    "- **sample:** the sample id as in column sample in cell-count.csv\n",
    "- **total_count:** total cell count of sample\n",
    "- **population:** name of the immune cell population (e.g. b_cell, cd8_t_cell, etc.)\n",
    "- **count:** cell count\n",
    "- **percentage:** relative frequency in percentage"
   ]
  },
  {
   "cell_type": "code",
   "execution_count": 1,
   "id": "eecadcc6-c0fa-4f89-947b-f0ee71670784",
   "metadata": {},
   "outputs": [],
   "source": [
    "# Importing required libraries\n",
    "import pandas as pd"
   ]
  },
  {
   "cell_type": "code",
   "execution_count": 2,
   "id": "a9eb6752-74b0-4618-8213-f52cfcd36b59",
   "metadata": {},
   "outputs": [
    {
     "name": "stdout",
     "output_type": "stream",
     "text": [
      "Succesfully loaded data:\n",
      "  project subject condition  age sex treatment response sample sample_type  \\\n",
      "0    prj1    sbj1  melanoma   70   F       tr1        y     s1        PBMC   \n",
      "1    prj1    sbj1  melanoma   70   F       tr1        y     s2        PBMC   \n",
      "2    prj1    sbj1  melanoma   70   F       tr1        y     s3        PBMC   \n",
      "3    prj1    sbj2   healthy   65   F      none      NaN     s4        PBMC   \n",
      "4    prj1    sbj3  melanoma   75   M       tr1        n     s5        PBMC   \n",
      "\n",
      "   time_from_treatment_start  b_cell  cd8_t_cell  cd4_t_cell  nk_cell  \\\n",
      "0                        0.0   36000       24000       42000     6000   \n",
      "1                        7.0   30000       22000       40000     2000   \n",
      "2                       14.0   35000       26250       37500    10000   \n",
      "3                        NaN   27900       17100       18000     4500   \n",
      "4                        0.0   60000       30000       37500     4500   \n",
      "\n",
      "   monocyte  \n",
      "0     12000  \n",
      "1      6000  \n",
      "2     16250  \n",
      "3     22500  \n",
      "4     18000  \n",
      "Total  number of samples: 17\n"
     ]
    }
   ],
   "source": [
    "# Importing data\n",
    "try:\n",
    "    # Load the data\n",
    "    data = pd.read_csv('../data/cell-count.csv')\n",
    "\n",
    "    # Display the first few rows of the data frame\n",
    "    print(\"Succesfully loaded data:\")\n",
    "    print(data.head())\n",
    "\n",
    "    # Basic Operation: Calculate the total number of samples\n",
    "    total_samples = data.shape[0]\n",
    "    print(f\"Total  number of samples: {total_samples}\")\n",
    "\n",
    "except Exception as e:\n",
    "    print(f\"An error occured: {e}\")"
   ]
  },
  {
   "cell_type": "code",
   "execution_count": 3,
   "id": "a0cc417d-3020-4fb4-87aa-025c1549994a",
   "metadata": {},
   "outputs": [],
   "source": [
    "populations = [\"b_cell\", \"cd8_t_cell\", \"cd4_t_cell\", \"nk_cell\", \"monocyte\"]"
   ]
  },
  {
   "cell_type": "code",
   "execution_count": 4,
   "id": "2b0bb1dd-f6f3-468a-b53f-df5db4f51eef",
   "metadata": {},
   "outputs": [],
   "source": [
    "# Calculate total count of each sample\n",
    "data['total_count'] = data[populations].sum(axis=1)"
   ]
  },
  {
   "cell_type": "code",
   "execution_count": 5,
   "id": "3d5f7aef-6504-456e-a98a-7e5e409b23fd",
   "metadata": {},
   "outputs": [],
   "source": [
    "# Prepare the output DataFrame\n",
    "output = pd.DataFrame()"
   ]
  },
  {
   "cell_type": "code",
   "execution_count": 6,
   "id": "9e91318c-f69f-4a52-9386-5d5594561104",
   "metadata": {},
   "outputs": [],
   "source": [
    "# Loop through each population to calculate percentage\n",
    "for population in populations:\n",
    "    temp_df = pd.DataFrame()\n",
    "    temp_df['sample'] = data['sample']\n",
    "    temp_df['total_count'] = data['total_count']\n",
    "    temp_df['population'] = population\n",
    "    temp_df['count'] = data[population]\n",
    "    temp_df['percentage'] = (data[population] / data['total_count']) * 100\n",
    "    output = pd.concat([output, temp_df])\n"
   ]
  },
  {
   "cell_type": "code",
   "execution_count": 7,
   "id": "ed0929f2-3947-4570-9ea7-3820f22c4fdb",
   "metadata": {},
   "outputs": [],
   "source": [
    "# Updating the index values before saving as CSV\n",
    "output = output.reset_index(drop=True)"
   ]
  },
  {
   "cell_type": "code",
   "execution_count": 8,
   "id": "2ca0e742-8b77-4a47-b836-331fabbd0463",
   "metadata": {},
   "outputs": [],
   "source": [
    "# Save the processed data to a new CSV file\n",
    "output.to_csv(\"../data/updated-cell-count.csv\", index=False)"
   ]
  },
  {
   "cell_type": "code",
   "execution_count": 9,
   "id": "236561de-6f56-4565-8359-5efa1e1e9703",
   "metadata": {},
   "outputs": [
    {
     "name": "stdout",
     "output_type": "stream",
     "text": [
      "  sample  total_count population  count  percentage\n",
      "0     s1       120000     b_cell  36000        30.0\n",
      "1     s2       100000     b_cell  30000        30.0\n",
      "2     s3       125000     b_cell  35000        28.0\n",
      "3     s4        90000     b_cell  27900        31.0\n",
      "4     s5       150000     b_cell  60000        40.0\n"
     ]
    }
   ],
   "source": [
    "# Print head for preview\n",
    "print(output.head())"
   ]
  },
  {
   "cell_type": "code",
   "execution_count": null,
   "id": "011e51a4-4703-4452-8473-6a347383a0c2",
   "metadata": {},
   "outputs": [],
   "source": []
  }
 ],
 "metadata": {
  "kernelspec": {
   "display_name": "Python 3.9.6 ('.venv': venv)",
   "language": "python",
   "name": "python3"
  },
  "language_info": {
   "codemirror_mode": {
    "name": "ipython",
    "version": 3
   },
   "file_extension": ".py",
   "mimetype": "text/x-python",
   "name": "python",
   "nbconvert_exporter": "python",
   "pygments_lexer": "ipython3",
   "version": "3.9.6"
  },
  "vscode": {
   "interpreter": {
    "hash": "c3e0331c31fd420f21999ff838f8ab7e3361bc6964957b8d8a737796f10c22e4"
   }
  }
 },
 "nbformat": 4,
 "nbformat_minor": 5
}
